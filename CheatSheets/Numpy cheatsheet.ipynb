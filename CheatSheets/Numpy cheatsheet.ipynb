{
 "cells": [
  {
   "cell_type": "markdown",
   "id": "7b0715c1",
   "metadata": {},
   "source": [
    "## Importing Numpy library"
   ]
  },
  {
   "cell_type": "code",
   "execution_count": 99,
   "id": "066f5c9a",
   "metadata": {},
   "outputs": [],
   "source": [
    "import numpy as np"
   ]
  },
  {
   "cell_type": "markdown",
   "id": "05548d6f",
   "metadata": {},
   "source": [
    "### Declaring the arrays of Different datatypes"
   ]
  },
  {
   "cell_type": "code",
   "execution_count": 100,
   "id": "b06ec273",
   "metadata": {},
   "outputs": [
    {
     "name": "stdout",
     "output_type": "stream",
     "text": [
      "int32\n",
      "float64\n"
     ]
    }
   ],
   "source": [
    "a = np.array([1,2,3])\n",
    "b = np.array([(1.5,2,3), (4,5,6)], dtype = float)\n",
    "c = np.array([[(1.5,2,3), (4,5,6)],[(3,2,1), (4,5,6)]], dtype = float)\n",
    "print(a.dtype)\n",
    "print(b.dtype)"
   ]
  },
  {
   "cell_type": "markdown",
   "id": "d7361973",
   "metadata": {},
   "source": [
    "### A 3 X 3 matrix containing all 9's in it"
   ]
  },
  {
   "cell_type": "code",
   "execution_count": 101,
   "id": "c6e018f4",
   "metadata": {},
   "outputs": [
    {
     "data": {
      "text/plain": [
       "array([[9, 9, 9],\n",
       "       [9, 9, 9],\n",
       "       [9, 9, 9]])"
      ]
     },
     "execution_count": 101,
     "metadata": {},
     "output_type": "execute_result"
    }
   ],
   "source": [
    "f=np.full((3,3),9)\n",
    "f"
   ]
  },
  {
   "cell_type": "markdown",
   "id": "20b3735b",
   "metadata": {},
   "source": [
    "### Creating an Identity matrix"
   ]
  },
  {
   "cell_type": "code",
   "execution_count": 102,
   "id": "e1d12a83",
   "metadata": {},
   "outputs": [
    {
     "data": {
      "text/plain": [
       "array([[1., 0., 0.],\n",
       "       [0., 1., 0.],\n",
       "       [0., 0., 1.]])"
      ]
     },
     "execution_count": 102,
     "metadata": {},
     "output_type": "execute_result"
    }
   ],
   "source": [
    "np.eye(3)\n",
    "#by default it will take float values"
   ]
  },
  {
   "cell_type": "code",
   "execution_count": 103,
   "id": "65b6b601",
   "metadata": {},
   "outputs": [
    {
     "data": {
      "text/plain": [
       "array([[1, 0, 0],\n",
       "       [0, 1, 0],\n",
       "       [0, 0, 1]])"
      ]
     },
     "execution_count": 103,
     "metadata": {},
     "output_type": "execute_result"
    }
   ],
   "source": [
    "np.eye(3,dtype='int')\n",
    "#here we mention the datatype as int "
   ]
  },
  {
   "cell_type": "markdown",
   "id": "2aa3186f",
   "metadata": {},
   "source": [
    "### Creating an Array of size 3 X 4 which contains all ones in it"
   ]
  },
  {
   "cell_type": "code",
   "execution_count": 104,
   "id": "51111d14",
   "metadata": {},
   "outputs": [
    {
     "data": {
      "text/plain": [
       "array([[1., 1., 1., 1.],\n",
       "       [1., 1., 1., 1.],\n",
       "       [1., 1., 1., 1.]])"
      ]
     },
     "execution_count": 104,
     "metadata": {},
     "output_type": "execute_result"
    }
   ],
   "source": [
    "np.ones((3,4))"
   ]
  },
  {
   "cell_type": "markdown",
   "id": "906fff10",
   "metadata": {},
   "source": [
    "### Getting element from a certain range"
   ]
  },
  {
   "cell_type": "code",
   "execution_count": 105,
   "id": "1a9acff3",
   "metadata": {},
   "outputs": [
    {
     "data": {
      "text/plain": [
       "array([ 2,  3,  4,  5,  6,  7,  8,  9, 10, 11, 12, 13, 14, 15, 16, 17, 18,\n",
       "       19])"
      ]
     },
     "execution_count": 105,
     "metadata": {},
     "output_type": "execute_result"
    }
   ],
   "source": [
    "np.arange(2,20)"
   ]
  },
  {
   "cell_type": "markdown",
   "id": "54d42f65",
   "metadata": {},
   "source": [
    "### Getting k number of elements from range a to b"
   ]
  },
  {
   "cell_type": "code",
   "execution_count": 106,
   "id": "8d6ed005",
   "metadata": {},
   "outputs": [
    {
     "data": {
      "text/plain": [
       "array([ 4.,  8., 12., 16., 20.])"
      ]
     },
     "execution_count": 106,
     "metadata": {},
     "output_type": "execute_result"
    }
   ],
   "source": [
    "#np.linspace(a,b,k)\n",
    "np.linspace(4,20,5)"
   ]
  },
  {
   "cell_type": "markdown",
   "id": "f1e7cf47",
   "metadata": {},
   "source": [
    "### Getting a random number from 0 to 1"
   ]
  },
  {
   "cell_type": "code",
   "execution_count": 107,
   "id": "2b104917",
   "metadata": {},
   "outputs": [
    {
     "data": {
      "text/plain": [
       "0.700839016620331"
      ]
     },
     "execution_count": 107,
     "metadata": {},
     "output_type": "execute_result"
    }
   ],
   "source": [
    "np.random.random()"
   ]
  },
  {
   "cell_type": "markdown",
   "id": "aa386020",
   "metadata": {},
   "source": [
    "### Basic operations on an Array"
   ]
  },
  {
   "cell_type": "code",
   "execution_count": 108,
   "id": "0c8e58b3",
   "metadata": {},
   "outputs": [
    {
     "name": "stdout",
     "output_type": "stream",
     "text": [
      "65\n",
      "2\n",
      "9\n",
      "int32\n",
      "(9,)\n",
      "[ 3  4  5  6  2  6  6  3 65]\n"
     ]
    }
   ],
   "source": [
    "A=np.array([3,4,5,6,2,6,6,3,65])\n",
    "print(A.max())\n",
    "print(A.min())\n",
    "print(len(A))\n",
    "print(A.dtype)\n",
    "print(A.shape)\n",
    "A.astype('float')\n",
    "print(A)"
   ]
  },
  {
   "cell_type": "code",
   "execution_count": 109,
   "id": "f8a75e37",
   "metadata": {},
   "outputs": [
    {
     "data": {
      "text/plain": [
       "array([1.73205081, 2.        , 2.23606798, 2.44948974, 1.41421356,\n",
       "       2.44948974, 2.44948974, 1.73205081, 8.06225775])"
      ]
     },
     "execution_count": 109,
     "metadata": {},
     "output_type": "execute_result"
    }
   ],
   "source": [
    "np.sqrt(A)"
   ]
  },
  {
   "cell_type": "code",
   "execution_count": 110,
   "id": "8887b0b4",
   "metadata": {},
   "outputs": [
    {
     "data": {
      "text/plain": [
       "array([ 0.14112001, -0.7568025 , -0.95892427, -0.2794155 ,  0.90929743,\n",
       "       -0.2794155 , -0.2794155 ,  0.14112001,  0.82682868])"
      ]
     },
     "execution_count": 110,
     "metadata": {},
     "output_type": "execute_result"
    }
   ],
   "source": [
    "np.sin(A)"
   ]
  },
  {
   "cell_type": "code",
   "execution_count": 111,
   "id": "ca6cf7c0",
   "metadata": {},
   "outputs": [
    {
     "data": {
      "text/plain": [
       "array([1.09861229, 1.38629436, 1.60943791, 1.79175947, 0.69314718,\n",
       "       1.79175947, 1.79175947, 1.09861229, 4.17438727])"
      ]
     },
     "execution_count": 111,
     "metadata": {},
     "output_type": "execute_result"
    }
   ],
   "source": [
    "np.log(A)"
   ]
  },
  {
   "cell_type": "code",
   "execution_count": 112,
   "id": "62f1843a",
   "metadata": {},
   "outputs": [
    {
     "data": {
      "text/plain": [
       "array([ 0.75,  1.  ,  1.25,  1.5 ,  0.5 ,  1.5 ,  1.5 ,  0.75, 16.25])"
      ]
     },
     "execution_count": 112,
     "metadata": {},
     "output_type": "execute_result"
    }
   ],
   "source": [
    "A/4"
   ]
  },
  {
   "cell_type": "code",
   "execution_count": 113,
   "id": "4182ac5f",
   "metadata": {},
   "outputs": [
    {
     "data": {
      "text/plain": [
       "array([ 12,  16,  20,  24,   8,  24,  24,  12, 260])"
      ]
     },
     "execution_count": 113,
     "metadata": {},
     "output_type": "execute_result"
    }
   ],
   "source": [
    "A*4"
   ]
  },
  {
   "cell_type": "markdown",
   "id": "db7e1de2",
   "metadata": {},
   "source": [
    "### Sorting an Array"
   ]
  },
  {
   "cell_type": "code",
   "execution_count": 114,
   "id": "17f7961f",
   "metadata": {},
   "outputs": [
    {
     "data": {
      "text/plain": [
       "array([ 2,  3,  3,  4,  5,  6,  6,  6, 65])"
      ]
     },
     "execution_count": 114,
     "metadata": {},
     "output_type": "execute_result"
    }
   ],
   "source": [
    "A.sort()\n",
    "A"
   ]
  },
  {
   "cell_type": "code",
   "execution_count": 115,
   "id": "bea9d2d1",
   "metadata": {},
   "outputs": [
    {
     "data": {
      "text/plain": [
       "6"
      ]
     },
     "execution_count": 115,
     "metadata": {},
     "output_type": "execute_result"
    }
   ],
   "source": [
    "A[5]"
   ]
  },
  {
   "cell_type": "markdown",
   "id": "a0ce9165",
   "metadata": {},
   "source": [
    "### Array slicing"
   ]
  },
  {
   "cell_type": "code",
   "execution_count": 116,
   "id": "c0f14413",
   "metadata": {},
   "outputs": [
    {
     "data": {
      "text/plain": [
       "array([2, 3, 3, 4, 5])"
      ]
     },
     "execution_count": 116,
     "metadata": {},
     "output_type": "execute_result"
    }
   ],
   "source": [
    "A[0:5]"
   ]
  },
  {
   "cell_type": "markdown",
   "id": "0e34cceb",
   "metadata": {},
   "source": [
    "### Reversing an Array"
   ]
  },
  {
   "cell_type": "code",
   "execution_count": 117,
   "id": "f6246320",
   "metadata": {},
   "outputs": [
    {
     "data": {
      "text/plain": [
       "array([65,  6,  6,  6,  5,  4,  3,  3,  2])"
      ]
     },
     "execution_count": 117,
     "metadata": {},
     "output_type": "execute_result"
    }
   ],
   "source": [
    "A[::-1]"
   ]
  },
  {
   "cell_type": "markdown",
   "id": "c8c8b021",
   "metadata": {},
   "source": [
    "### Changing shape of an array"
   ]
  },
  {
   "cell_type": "code",
   "execution_count": 118,
   "id": "2e2e40c0",
   "metadata": {},
   "outputs": [
    {
     "data": {
      "text/plain": [
       "array([[ 2,  3,  3],\n",
       "       [ 4,  5,  6],\n",
       "       [ 6,  6, 65]])"
      ]
     },
     "execution_count": 118,
     "metadata": {},
     "output_type": "execute_result"
    }
   ],
   "source": [
    "A=A.reshape(3,3)\n",
    "A"
   ]
  },
  {
   "cell_type": "markdown",
   "id": "33df133f",
   "metadata": {},
   "source": [
    "### Transpose of a matrix or an array"
   ]
  },
  {
   "cell_type": "code",
   "execution_count": 119,
   "id": "afdbda36",
   "metadata": {},
   "outputs": [
    {
     "data": {
      "text/plain": [
       "array([[ 2,  4,  6],\n",
       "       [ 3,  5,  6],\n",
       "       [ 3,  6, 65]])"
      ]
     },
     "execution_count": 119,
     "metadata": {},
     "output_type": "execute_result"
    }
   ],
   "source": [
    "A.transpose()"
   ]
  },
  {
   "cell_type": "markdown",
   "id": "56c0537c",
   "metadata": {},
   "source": [
    "### Getting all the diagonal elements of an array"
   ]
  },
  {
   "cell_type": "code",
   "execution_count": 120,
   "id": "81fef1a6",
   "metadata": {},
   "outputs": [
    {
     "data": {
      "text/plain": [
       "array([ 2,  5, 65])"
      ]
     },
     "execution_count": 120,
     "metadata": {},
     "output_type": "execute_result"
    }
   ],
   "source": [
    "np.diagonal(A)"
   ]
  },
  {
   "cell_type": "markdown",
   "id": "b127c245",
   "metadata": {},
   "source": [
    "### Filling all the diagonal elements of an array with the given number"
   ]
  },
  {
   "cell_type": "code",
   "execution_count": 121,
   "id": "c96456ac",
   "metadata": {},
   "outputs": [
    {
     "data": {
      "text/plain": [
       "array([[3, 3, 3],\n",
       "       [4, 3, 6],\n",
       "       [6, 6, 3]])"
      ]
     },
     "execution_count": 121,
     "metadata": {},
     "output_type": "execute_result"
    }
   ],
   "source": [
    "np.fill_diagonal(A,3)\n",
    "A"
   ]
  },
  {
   "cell_type": "code",
   "execution_count": 122,
   "id": "87e866df",
   "metadata": {},
   "outputs": [
    {
     "data": {
      "text/plain": [
       "array([[0, 0, 0],\n",
       "       [1, 0, 0],\n",
       "       [0, 0, 0]], dtype=int32)"
      ]
     },
     "execution_count": 122,
     "metadata": {},
     "output_type": "execute_result"
    }
   ],
   "source": [
    "np.mod(A,3)"
   ]
  },
  {
   "cell_type": "markdown",
   "id": "ba1190cf",
   "metadata": {},
   "source": [
    "### All the rows of an array are arranged in an order"
   ]
  },
  {
   "cell_type": "code",
   "execution_count": 123,
   "id": "f81d6c04",
   "metadata": {},
   "outputs": [
    {
     "data": {
      "text/plain": [
       "array([[3, 3, 3],\n",
       "       [4, 3, 6],\n",
       "       [6, 6, 3],\n",
       "       [3, 4, 6],\n",
       "       [3, 3, 6],\n",
       "       [3, 6, 3]])"
      ]
     },
     "execution_count": 123,
     "metadata": {},
     "output_type": "execute_result"
    }
   ],
   "source": [
    "np.vstack((A,A.transpose()))"
   ]
  },
  {
   "cell_type": "markdown",
   "id": "9c45234f",
   "metadata": {},
   "source": [
    "### All the columns of an array are arranged in an order"
   ]
  },
  {
   "cell_type": "code",
   "execution_count": 124,
   "id": "752168f0",
   "metadata": {},
   "outputs": [
    {
     "data": {
      "text/plain": [
       "array([[3, 3, 3, 3, 4, 6],\n",
       "       [4, 3, 6, 3, 3, 6],\n",
       "       [6, 6, 3, 3, 6, 3]])"
      ]
     },
     "execution_count": 124,
     "metadata": {},
     "output_type": "execute_result"
    }
   ],
   "source": [
    "np.hstack((A,A.transpose()))"
   ]
  }
 ],
 "metadata": {
  "kernelspec": {
   "display_name": "Python 3 (ipykernel)",
   "language": "python",
   "name": "python3"
  },
  "language_info": {
   "codemirror_mode": {
    "name": "ipython",
    "version": 3
   },
   "file_extension": ".py",
   "mimetype": "text/x-python",
   "name": "python",
   "nbconvert_exporter": "python",
   "pygments_lexer": "ipython3",
   "version": "3.9.12"
  }
 },
 "nbformat": 4,
 "nbformat_minor": 5
}
